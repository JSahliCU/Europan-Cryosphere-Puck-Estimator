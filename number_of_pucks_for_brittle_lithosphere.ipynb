{
 "cells": [
  {
   "cell_type": "code",
   "execution_count": 99,
   "metadata": {},
   "outputs": [],
   "source": [
    "# Imports and plotting setups\n",
    "import xarray as xr\n",
    "import pandas as pd\n",
    "import numpy as np\n",
    "import matplotlib.pyplot as plt\n",
    "import scipy\n",
    "\n",
    "import sys, os\n",
    "sys.path.insert(0, '../../')\n",
    "import antenna_toolbox as ant\n",
    "sys.path.insert(0, '../')\n",
    "\n",
    "import math_funcs\n",
    "\n",
    "from cycler import cycler\n",
    "\n",
    "default_cycler = (cycler(color=['#4477AA', '#EE6677', '#228833', '#CCBB44', '#66CCEE', '#AA3377', '#BBBBBB']) +\n",
    "                cycler(linestyle=['-', '--', ':', '-.', '-', '--', ':']))\n",
    "\n",
    "plt.rc('lines', linewidth=1)\n",
    "plt.rc('axes', prop_cycle=default_cycler)\n",
    "\n",
    "plt.rcParams[\"font.family\"] = \"Times\"\n",
    "plt.rcParams[\"font.size\"] = 8\n",
    "\n",
    "plt.rcParams['figure.figsize'] = (3.5, 2.5)\n",
    "plt.rcParams['figure.dpi'] = 600\n",
    "\n",
    "plt.rcParams['text.usetex'] = True"
   ]
  },
  {
   "cell_type": "code",
   "execution_count": 100,
   "metadata": {},
   "outputs": [],
   "source": [
    "# Constants\n",
    "c_0\t= 299792458 # m/s\n",
    "e = 2.718281828\n",
    "epsilon_0 = 8.854E-12\n",
    "mu_0 = 1.257E-06\n",
    "k = 1.38E-23"
   ]
  },
  {
   "cell_type": "code",
   "execution_count": 101,
   "metadata": {},
   "outputs": [],
   "source": [
    "# Howell 2021 Model parameters\n",
    "T_surf = 104 # K\n",
    "T_cond_base = 273.13 # K\n",
    "brittle_cryosphere_depth = 50 * 1000 # m\n",
    "surface_background_radiation_temperature = 10**4 # K"
   ]
  },
  {
   "cell_type": "code",
   "execution_count": 102,
   "metadata": {},
   "outputs": [],
   "source": [
    "# Mission Parameters\n",
    "max_BER = 10**-5\n",
    "bit_rate = 1e3 # bps\n",
    "link_BW = 3.43e3 # Hz"
   ]
  },
  {
   "cell_type": "code",
   "execution_count": 103,
   "metadata": {},
   "outputs": [],
   "source": [
    "# Engineering/Assumed Parameters\n",
    "transmitted_power = 1 # W\n",
    "\n",
    "def antenna_directivity(T):\n",
    "    directivity_in_273K_ice = 4.46 # dB\n",
    "    directivity_in_100K_ice = 4.64 # dB\n",
    "    m, b = math_funcs.linear_fit(\n",
    "        100, math_funcs.db_2_power(directivity_in_100K_ice), \n",
    "        273, math_funcs.db_2_power(directivity_in_273K_ice))\n",
    "    return math_funcs.power_2_db(m * T + b)\n",
    "\n",
    "def radiation_efficiency(T):\n",
    "    rad_eff_in_273K_ice = 0.228 # dB\n",
    "    rad_eff_in_100K_ice = 0.223 # dB\n",
    "    m, b = math_funcs.linear_fit(\n",
    "        100, rad_eff_in_100K_ice, \n",
    "        273, rad_eff_in_273K_ice)\n",
    "    return m * T + b\n",
    "\n",
    "matching_efficiency = 0.952\n",
    "carrier_frequency = 413*10**6 # Hz"
   ]
  },
  {
   "cell_type": "code",
   "execution_count": 104,
   "metadata": {},
   "outputs": [
    {
     "data": {
      "text/plain": [
       "((15.080310882041475-2.0049121376258393e-05j),\n",
       " (3.0344917000000002-8.06865228237526e-06j),\n",
       " [-0.13394092667278729,\n",
       "  -29.722572588457655,\n",
       "  -49.721005288357134,\n",
       "  -89.54860227729893,\n",
       "  -106.39139082783734,\n",
       "  -114.9949240389161],\n",
       " [-159.565108817594,\n",
       "  -159.5649361380532,\n",
       "  -159.56338203091394,\n",
       "  -159.39252328719277,\n",
       "  -158.18854660970604,\n",
       "  -150.9847313323022],\n",
       " [159.43116789092122,\n",
       "  129.84236354959558,\n",
       "  109.8423767425568,\n",
       "  69.84392100989385,\n",
       "  51.79715578186871,\n",
       "  35.98980729338611],\n",
       " [154.0782266904935,\n",
       "  124.48942234916785,\n",
       "  104.4894355421291,\n",
       "  64.49097980946615,\n",
       "  46.44421458144101,\n",
       "  30.6368660929584],\n",
       " [0.0, 0.0, 0.0, 0.0, 0.0, 0.0])"
      ]
     },
     "execution_count": 104,
     "metadata": {},
     "output_type": "execute_result"
    }
   ],
   "source": [
    "# Propagation path modeling equations\n",
    "def temperature_at_depth(depth):\n",
    "    m, b = math_funcs.linear_fit(\n",
    "        0, T_surf, \n",
    "        brittle_cryosphere_depth, T_cond_base)\n",
    "\n",
    "    return m * depth + b\n",
    "\n",
    "def ice_epsilon_relative(T):\n",
    "    T = T - 273.13 # convert from Kelvin to Celsius\n",
    "    real = 3.1884 + 0.00091*T\n",
    "    imag = 10**(-3.0129 + 0.0123*T)\n",
    "    return real - 1j*imag\n",
    "\n",
    "def ice_wave_number(T):\n",
    "    return 2 * np.pi * carrier_frequency * np.sqrt(epsilon_0 * mu_0) * np.sqrt(ice_epsilon_relative(T))\n",
    "\n",
    "def simple_linear_path_loss(path_length, k_s):\n",
    "    return np.e**(-2 * path_length * np.imag(k_s))\n",
    "\n",
    "def wavelength_column_linear_path_loss_calc(top_column, bottom_column):\n",
    "    approx_wavelength = 0.5\n",
    "    depths = np.arange(top_column, bottom_column + approx_wavelength, approx_wavelength)\n",
    "    total_path_loss = 1 # real units of power\n",
    "    for col_depth in depths:\n",
    "        total_path_loss *= simple_linear_path_loss(\n",
    "            approx_wavelength, ice_wave_number(col_depth))\n",
    "    return total_path_loss\n",
    "\n",
    "\n",
    "def received_power(T_puck, T_path, path_length):\n",
    "    k_s = ice_wave_number(T_path)\n",
    "    #wavelength = np.pi * 2 / np.real(k_s)\n",
    "    if path_length < 1:\n",
    "        space_path_loss = 1\n",
    "    else:\n",
    "        space_path_loss = (1 / (2 * np.real(k_s) * path_length))**2\n",
    "    linear_path_loss = simple_linear_path_loss\n",
    "    \n",
    "    return transmitted_power * matching_efficiency**2 * radiation_efficiency(T_puck)**2\\\n",
    "        * space_path_loss * linear_path_loss * antenna_directivity(T_puck)**2\n",
    "\n",
    "def noise_power(T_puck, T_path_to_surface, puck_depth):\n",
    "    k_s = ice_wave_number(T_path_to_surface)\n",
    "    linear_path_loss = simple_linear_path_loss(puck_depth, k_s)\n",
    "    return link_BW * k * temperature_at_depth(puck_depth) \\\n",
    "        + radiation_efficiency(T_puck) * link_BW * k * linear_path_loss * surface_background_radiation_temperature\n",
    "\n",
    "def CNR_per_bit(received_power, noise_power):\n",
    "    return (bit_rate/link_BW) * (received_power/noise_power)\n",
    "\n",
    "def bit_error_rate(CNR_per_bit):\n",
    "    if CNR_per_bit > 4*np.log(2):\n",
    "        return np.e**(-1 * 1 * (CNR_per_bit - 2 * np.log(2)))\n",
    "    else:\n",
    "        return np.e**(-1 * 2 * ((np.sqrt(CNR_per_bit) - np.sqrt(np.log(2)))**2))\n",
    "\n",
    "def bit_error_rate_of_next_receiver(last_puck_depth, next_puck_path_length, debug=False):\n",
    "    puck_depth = last_puck_depth + next_puck_path_length\n",
    "    T_puck = temperature_at_depth(puck_depth)\n",
    "    T_path = temperature_at_depth(puck_depth / 2)\n",
    "\n",
    "    P_r = received_power(T_puck, T_path, next_puck_path_length)\n",
    "    P_n = noise_power(T_puck, T_path, puck_depth)\n",
    "\n",
    "    BER = bit_error_rate(CNR_per_bit(P_r, P_n))\n",
    "    if debug:\n",
    "        return BER, puck_depth, T_puck, T_path, P_r, P_n\n",
    "    else:\n",
    "        return BER\n",
    "\n",
    "def optimize_puck_depth(last_puck_depth):\n",
    "    # Goal function\n",
    "    goal_func = lambda next_puck_path_length: bit_error_rate_of_next_receiver(last_puck_depth, next_puck_path_length) - max_BER\n",
    "\n",
    "    # Using a binary search optimization (since I know the bit error rate monotonically increases with depth)\n",
    "    return scipy.optimize.bisect(goal_func, 1, brittle_cryosphere_depth - last_puck_depth)\n",
    "\n",
    "x = [0, 1, 10, 1000, 8000, 50e3]\n",
    "ice_wave_number(104), ice_epsilon_relative(104), \\\n",
    "    [10*np.log10(received_power(104, 104, i)) for i in x], \\\n",
    "    [10*np.log10(noise_power(104, 104, i)) for i in x], \\\n",
    "    [10*np.log10(received_power(104, 104, i)/ noise_power(104, 104, i)) for i in x], \\\n",
    "    [10*np.log10(CNR_per_bit(received_power(104, 104, i), noise_power(104, 104, i))) for i in x], \\\n",
    "    [bit_error_rate_of_next_receiver(0, i) for i in x]\n"
   ]
  },
  {
   "cell_type": "code",
   "execution_count": 105,
   "metadata": {},
   "outputs": [
    {
     "data": {
      "text/plain": [
       "(-142.93892878451192, -129.5888239774972, -159.39252328719277)"
      ]
     },
     "execution_count": 105,
     "metadata": {},
     "output_type": "execute_result"
    }
   ],
   "source": [
    "P_a = link_BW * k * temperature_at_depth(1000)\n",
    "k_s = ice_wave_number(104)\n",
    "linear_path_loss = np.e**(-2 * 1000 * np.imag(k_s))\n",
    "P_b = radiation_efficiency(104) * link_BW * k * linear_path_loss * surface_background_radiation_temperature\n",
    "\n",
    "\n",
    "10*np.log10(P_a) + 30, 10*np.log10(P_b) + 30, 10*np.log10(P_a + P_b)"
   ]
  },
  {
   "cell_type": "code",
   "execution_count": 106,
   "metadata": {},
   "outputs": [
    {
     "ename": "ValueError",
     "evalue": "f(a) and f(b) must have different signs",
     "output_type": "error",
     "traceback": [
      "\u001b[0;31m---------------------------------------------------------------------------\u001b[0m",
      "\u001b[0;31mValueError\u001b[0m                                Traceback (most recent call last)",
      "Cell \u001b[0;32mIn[106], line 1\u001b[0m\n\u001b[0;32m----> 1\u001b[0m root \u001b[39m=\u001b[39m optimize_puck_depth(\u001b[39m0\u001b[39;49m)\n\u001b[1;32m      2\u001b[0m bit_error_rate_of_next_receiver(\u001b[39m0\u001b[39m, root, \u001b[39mTrue\u001b[39;00m)\n\u001b[1;32m      3\u001b[0m \u001b[39m# 10 * np.log10(received_power(104, 104, 1e3))\u001b[39;00m\n\u001b[1;32m      4\u001b[0m \u001b[39m# radiation_efficiency(104)**2\u001b[39;00m\n",
      "Cell \u001b[0;32mIn[104], line 64\u001b[0m, in \u001b[0;36moptimize_puck_depth\u001b[0;34m(last_puck_depth)\u001b[0m\n\u001b[1;32m     61\u001b[0m goal_func \u001b[39m=\u001b[39m \u001b[39mlambda\u001b[39;00m next_puck_path_length: bit_error_rate_of_next_receiver(last_puck_depth, next_puck_path_length) \u001b[39m-\u001b[39m max_BER\n\u001b[1;32m     63\u001b[0m \u001b[39m# Using a binary search optimization (since I know the bit error rate monotonically increases with depth)\u001b[39;00m\n\u001b[0;32m---> 64\u001b[0m \u001b[39mreturn\u001b[39;00m scipy\u001b[39m.\u001b[39;49moptimize\u001b[39m.\u001b[39;49mbisect(goal_func, \u001b[39m1\u001b[39;49m, brittle_cryosphere_depth \u001b[39m-\u001b[39;49m last_puck_depth)\n",
      "File \u001b[0;32m/opt/homebrew/lib/python3.11/site-packages/scipy/optimize/_zeros_py.py:557\u001b[0m, in \u001b[0;36mbisect\u001b[0;34m(f, a, b, args, xtol, rtol, maxiter, full_output, disp)\u001b[0m\n\u001b[1;32m    555\u001b[0m \u001b[39mif\u001b[39;00m rtol \u001b[39m<\u001b[39m _rtol:\n\u001b[1;32m    556\u001b[0m     \u001b[39mraise\u001b[39;00m \u001b[39mValueError\u001b[39;00m(\u001b[39m\"\u001b[39m\u001b[39mrtol too small (\u001b[39m\u001b[39m%g\u001b[39;00m\u001b[39m < \u001b[39m\u001b[39m%g\u001b[39;00m\u001b[39m)\u001b[39m\u001b[39m\"\u001b[39m \u001b[39m%\u001b[39m (rtol, _rtol))\n\u001b[0;32m--> 557\u001b[0m r \u001b[39m=\u001b[39m _zeros\u001b[39m.\u001b[39;49m_bisect(f, a, b, xtol, rtol, maxiter, args, full_output, disp)\n\u001b[1;32m    558\u001b[0m \u001b[39mreturn\u001b[39;00m results_c(full_output, r)\n",
      "\u001b[0;31mValueError\u001b[0m: f(a) and f(b) must have different signs"
     ]
    }
   ],
   "source": [
    "root = optimize_puck_depth(0)\n",
    "bit_error_rate_of_next_receiver(0, root, True)\n",
    "# 10 * np.log10(received_power(104, 104, 1e3))\n",
    "# radiation_efficiency(104)**2"
   ]
  },
  {
   "cell_type": "code",
   "execution_count": null,
   "metadata": {},
   "outputs": [
    {
     "data": {
      "text/plain": [
       "(3.187217-0.0009671659536293614j)"
      ]
     },
     "execution_count": 16,
     "metadata": {},
     "output_type": "execute_result"
    }
   ],
   "source": [
    "# Loop to calculate the number of pucks and all of their stats\n",
    "total_depth = 0\n",
    "inital_guess = 2000\n",
    "puck_depths = [0]\n",
    "i = 0\n",
    "\n",
    "while total_depth < brittle_cryosphere_depth:\n",
    "    depth_of_next_reciever = puck_depths[i] - \n",
    "    T_puck = temperature_at_depth(depth_of_next_reciever)\n",
    "    T_path_to_surface = \n",
    "    max_depth_of_next_reciever = \n",
    "    \n",
    "    total_depth += max_depth_of_next_reciever "
   ]
  }
 ],
 "metadata": {
  "kernelspec": {
   "display_name": "Python 3.11.0 64-bit",
   "language": "python",
   "name": "python3"
  },
  "language_info": {
   "codemirror_mode": {
    "name": "ipython",
    "version": 3
   },
   "file_extension": ".py",
   "mimetype": "text/x-python",
   "name": "python",
   "nbconvert_exporter": "python",
   "pygments_lexer": "ipython3",
   "version": "3.11.0"
  },
  "orig_nbformat": 4,
  "vscode": {
   "interpreter": {
    "hash": "5c7b89af1651d0b8571dde13640ecdccf7d5a6204171d6ab33e7c296e100e08a"
   }
  }
 },
 "nbformat": 4,
 "nbformat_minor": 2
}
