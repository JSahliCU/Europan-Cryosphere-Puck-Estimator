{
 "cells": [
  {
   "cell_type": "code",
   "execution_count": 2,
   "metadata": {},
   "outputs": [],
   "source": [
    "# Imports and plotting setups\n",
    "import pandas as pd\n",
    "import numpy as np\n",
    "import matplotlib.pyplot as plt\n",
    "import pandas as pd\n",
    "import scipy\n",
    "import math\n",
    "\n",
    "import math_funcs\n",
    "\n",
    "from scipy.constants import (\n",
    "    epsilon_0,   # Permittivity of free space (vacuum)\n",
    "    mu_0,        # Permeability of free space (vacuum)\n",
    "    c,           # Speed of light in vacuum\n",
    "    #e,           # Elementary charge\n",
    "    #h,           # Planck constant\n",
    "    #hbar,        # Reduced Planck constant (h-bar)\n",
    "    k,           # Boltzmann constant\n",
    "    #G,           # Newtonian constant of gravitation\n",
    "    #m_e,         # Electron mass\n",
    "    #m_p,         # Proton mass\n",
    "    #m_n,         # Neutron mass\n",
    "    #alpha,       # Fine-structure constant\n",
    "    eV,          # Electron volt\n",
    ")"
   ]
  },
  {
   "cell_type": "code",
   "execution_count": 3,
   "metadata": {},
   "outputs": [
    {
     "data": {
      "text/plain": [
       "(22.4, 1.4933333333333332, 15.0)"
      ]
     },
     "execution_count": 3,
     "metadata": {},
     "output_type": "execute_result"
    }
   ],
   "source": [
    "dd = 22.4\n",
    "hours = 24 * dd / 360\n",
    "dd, hours, 360/24"
   ]
  },
  {
   "cell_type": "code",
   "execution_count": 4,
   "metadata": {},
   "outputs": [
    {
     "data": {
      "text/plain": [
       "(Declination = -29.007810555555555, Right hand ascension = 266.41683708333335,\n",
       " (-29.007810555555555, (17.0, 45.0, 40.040899999999965)))"
      ]
     },
     "execution_count": 4,
     "metadata": {},
     "output_type": "execute_result"
    }
   ],
   "source": [
    "class point_celestial_sphere:\n",
    "    def __init__(self):\n",
    "        self.declination = 0 # degrees\n",
    "        # +90 degrees declination is north pole of celestial sphere\n",
    "        # -90 is the south pole\n",
    "        # By definition the Earth's north pole is always in the north celestial sphere, \n",
    "        # and vice versa for the south\n",
    "        self.right_hand_ascension = 0 # degrees\n",
    "        # range is 0 to 24 hours, and customarily reported in hours minutes seconds\n",
    "        # reference point is the march equinox, when the sub solar point travels from south (-dec) to north (+dec)\n",
    "        # positive is east\n",
    "\n",
    "    def __str__(self):\n",
    "        return f'Declination = {self.declination}, Right hand ascension = {self.right_hand_ascension}'\n",
    "    \n",
    "    def __repr__(self):\n",
    "        return self.__str__()\n",
    "\n",
    "    def get_location(self, format='dd/time'):\n",
    "        declination = None\n",
    "        right_hand_ascension = None\n",
    "        if format == 'dd/time':\n",
    "            declination = self.declination\n",
    "            rh_seconds = 24 * 60 * 60 * self.right_hand_ascension / 360\n",
    "            rh_minutes, rh_seconds = divmod(rh_seconds, 60)\n",
    "            rh_hours, rh_minutes = divmod(rh_minutes, 60)\n",
    "            right_hand_ascension = (rh_hours, rh_minutes, rh_seconds)\n",
    "        elif format=='degrees':\n",
    "            declination = self.declination\n",
    "            right_hand_ascension = self.right_hand_ascension\n",
    "        elif format=='radians':\n",
    "            declination = np.deg2rad(declination)\n",
    "            right_hand_ascension = np.deg2rad(right_hand_ascension)\n",
    "        else:\n",
    "            raise(ValueError('format must be set to \\'dd/time\\', \\'degrees\\', or \\'radians\\''))\n",
    "        \n",
    "        return declination, right_hand_ascension\n",
    "        \n",
    "    def set_location(self, declination, right_hand_ascension, format='dd/time'):\n",
    "        if format == 'dd/time' or format=='dms/time':\n",
    "            rh_hours, rh_minutes, rh_seconds = right_hand_ascension\n",
    "            if rh_hours < 0 or rh_minutes < 0 or rh_seconds < 0:\n",
    "                raise ValueError('Right hand ascension must be positive')\n",
    "            if rh_hours >= 24 or rh_minutes >= 60 or rh_seconds >= 60 :\n",
    "                raise ValueError('Right hand ascension not in valid range')\n",
    "            # convert to degrees\n",
    "            right_hand_ascension = rh_hours * (360/24) + rh_minutes * ((360/24)/60) + rh_seconds * ((360/24)/60/60)\n",
    "\n",
    "            if format=='dms/time':\n",
    "                dd, d_minutes, d_seconds = declination\n",
    "                sign = 1\n",
    "                if dd < 0:\n",
    "                    sign = -1\n",
    "                if d_minutes < 0 or d_seconds < 0:\n",
    "                    raise(Warning('Declination minutes and seconds are negative numbers! Only the degrees are allowed to be negative.'))\n",
    "                declination = dd + sign * d_minutes/60 + sign * d_seconds/3600\n",
    "        elif format=='degrees':\n",
    "            pass\n",
    "        elif format=='radians':\n",
    "            declination = np.rad2deg(declination)\n",
    "            right_hand_ascension = np.rad2deg(right_hand_ascension)\n",
    "        else:\n",
    "            raise(ValueError('format must be set to \\'dd/time\\', \\'dms/time\\', \\'degrees\\', or \\'radians\\''))\n",
    "\n",
    "        if declination > 90 or declination < -90:\n",
    "            raise ValueError('Declination must be between +90 and -90')\n",
    "        if right_hand_ascension >= 360 or right_hand_ascension < 0:\n",
    "            raise ValueError('Right hand ascension must be between 0 and 360 degrees or 0 degrees')\n",
    "        \n",
    "        self.declination = declination\n",
    "        self.right_hand_ascension = right_hand_ascension\n",
    "\n",
    "# Reid, M. J.; Brunthaler, A. (December 2004). \"The Proper Motion of Sagittarius A*. II. The Mass of Sagittarius A*\"\n",
    "sag_A = point_celestial_sphere()\n",
    "sag_A.set_location((-29,0,28.118), (17, 45, 40.0409), format='dms/time')\n",
    "\n",
    "sag_A, sag_A.get_location(format='dd/time')"
   ]
  },
  {
   "cell_type": "code",
   "execution_count": 13,
   "metadata": {},
   "outputs": [],
   "source": [
    "import time\n",
    "from math_funcs import cosd, sind, tand\n",
    "epoch_sec = time.time() # seconds since Jan 1st 1970\n",
    "# convert to days since Jan 1st 1950\n",
    "epoch_days = epoch_sec / (24 * 60 * 60) # days since 01/01/1970\n",
    "# seconds in a year (including leap years averaged in as Julian ephemeris)\n",
    "epoch_days = epoch_days + (1970 - 1950) * (365.25) # days since 01/01/1950\n",
    "# add in the offset\n",
    "\n",
    "off_0 = epoch_days / 36525 # centuries since 1950\n",
    "off_1 = 19.2 + 4850.7 * off_0\n",
    "off_2 = 120.8 + 1191.3 * off_0\n",
    "off_3 = 349.5 + 262.1 * off_0\n",
    "off_4 = 198.3 + 64.3 * off_0\n",
    "off_5 = 241.6 + 2382.6 * off_0\n",
    "off_6 = 317.7 + 6070.0 * off_0\n",
    "\n",
    "europas_north_pole = point_celestial_sphere()\n",
    "europas_north_pole.set_location(\n",
    "    64.516 + 0.0033*off_0 + 0.468*cosd(off_2) + 0.026*cosd(off_3) + 0.007*cosd(off_4) + 0.002*cosd(off_5),\n",
    "    268.029 - 0.0085*off_0 + 1.086*sind(off_2) + 0.060*sind(off_3) + 0.015*sind(off_4) + 0.009*sind(off_5),\n",
    "    format='degrees'\n",
    ")\n",
    "\n",
    "W = 156.9 + 101.3747235*epoch_days - 0.980*sind(off_2) - 0.054*sind(off_3) - 0.014*sind(off_4) - 0.008*sind(off_5) # deg\n",
    "W = W % 360"
   ]
  },
  {
   "attachments": {
    "image.png": {
     "image/png": "[encoded data removed]"
    }
   },
   "cell_type": "markdown",
   "metadata": {},
   "source": [
    "![image.png](attachment:image.png)"
   ]
  },
  {
   "cell_type": "code",
   "execution_count": 9,
   "metadata": {},
   "outputs": [
    {
     "data": {
      "text/plain": [
       "(np.float64(-3.732694320794306), np.float64(-51.570501767229345))"
      ]
     },
     "execution_count": 9,
     "metadata": {},
     "output_type": "execute_result"
    }
   ],
   "source": [
    "europas_obliquity = 90 - europas_north_pole.declination #degrees\n",
    "\n",
    "europas_sag_A_long = np.arctan((sind(sag_A.right_hand_ascension) * cosd(europas_obliquity) \\\n",
    "    + tand(sag_A.declination) * sind(europas_obliquity)) / cosd(europas_obliquity))\n",
    "europas_sag_A_long = np.rad2deg(europas_sag_A_long)\n",
    "\n",
    "europas_sag_A_lat = np.arcsin(sind(sag_A.declination) * cosd(europas_obliquity) \\\n",
    "    - cosd(sag_A.declination) * sind(europas_obliquity) * sind(sag_A.right_hand_ascension))\n",
    "europas_sag_A_lat = np.rad2deg(europas_sag_A_lat)\n",
    "\n",
    "europas_sag_A_lat, europas_sag_A_long"
   ]
  },
  {
   "cell_type": "code",
   "execution_count": 10,
   "metadata": {},
   "outputs": [
    {
     "data": {
      "text/plain": [
       "(np.float64(-3.732694320794306), np.float64(-51.570501767229345))"
      ]
     },
     "execution_count": 10,
     "metadata": {},
     "output_type": "execute_result"
    }
   ],
   "source": [
    "def convert_to_equitorial_coordinates(right_hand_ascension, declination, obliquity):\n",
    "    long = np.arctan((sind(right_hand_ascension) * cosd(obliquity) \\\n",
    "    + tand(declination) * sind(obliquity)) / cosd(obliquity))\n",
    "    long = np.rad2deg(long)\n",
    "\n",
    "    lat = np.arcsin(sind(declination) * cosd(obliquity) \\\n",
    "        - cosd(declination) * sind(obliquity) * sind(right_hand_ascension))\n",
    "    lat = np.rad2deg(lat)\n",
    "\n",
    "    return lat, long\n",
    "\n",
    "europas_obliquity = 90 - europas_north_pole.declination #degrees\n",
    "convert_to_equitorial_coordinates(sag_A.right_hand_ascension, sag_A.declination, europas_obliquity)"
   ]
  },
  {
   "cell_type": "code",
   "execution_count": 19,
   "metadata": {},
   "outputs": [
    {
     "data": {
      "text/plain": [
       "(np.float64(-3.732694320794306), np.float64(48.34299784280353))"
      ]
     },
     "execution_count": 19,
     "metadata": {},
     "output_type": "execute_result"
    }
   ],
   "source": [
    "europas_sag_A_lat, europas_sag_A_long = convert_to_equitorial_coordinates(sag_A.right_hand_ascension, sag_A.declination, europas_obliquity)\n",
    "\n",
    "europas_sag_A_long_relative_subjovian = (europas_sag_A_long - W) % 360\n",
    "europas_sag_A_long_relative_antijovian = (europas_sag_A_long - W - 180) % 360\n",
    "europas_sag_A_long_relative_antiorbital = (europas_sag_A_long - W + 90) % 360\n",
    "\n",
    "europas_sag_A_long = europas_sag_A_long_relative_subjovian\n",
    "\n",
    "europas_sag_A_lat, europas_sag_A_long"
   ]
  }
 ],
 "metadata": {
  "kernelspec": {
   "display_name": "Python 3",
   "language": "python",
   "name": "python3"
  },
  "language_info": {
   "codemirror_mode": {
    "name": "ipython",
    "version": 3
   },
   "file_extension": ".py",
   "mimetype": "text/x-python",
   "name": "python",
   "nbconvert_exporter": "python",
   "pygments_lexer": "ipython3",
   "version": "3.12.6"
  }
 },
 "nbformat": 4,
 "nbformat_minor": 2
}
