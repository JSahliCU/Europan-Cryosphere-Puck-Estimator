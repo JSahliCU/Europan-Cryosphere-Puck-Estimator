{
 "cells": [
  {
   "cell_type": "code",
   "execution_count": 111,
   "metadata": {},
   "outputs": [],
   "source": [
    "# Imports and plotting setups\n",
    "import xarray as xr\n",
    "import pandas as pd\n",
    "import numpy as np\n",
    "import matplotlib.pyplot as plt\n",
    "import scipy\n",
    "\n",
    "import sys, os\n",
    "sys.path.insert(0, '../../')\n",
    "sys.path.insert(0, '../')\n",
    "\n",
    "import math_funcs\n",
    "\n",
    "from cycler import cycler\n",
    "\n",
    "default_cycler = (cycler(color=['#4477AA', '#EE6677', '#228833', '#CCBB44', '#66CCEE', '#AA3377', '#BBBBBB']) +\n",
    "                cycler(linestyle=['-', '--', ':', '-.', '-', '--', ':']))\n",
    "\n",
    "plt.rc('lines', linewidth=1)\n",
    "plt.rc('axes', prop_cycle=default_cycler)\n",
    "\n",
    "plt.rcParams[\"font.family\"] = \"Times\"\n",
    "plt.rcParams[\"font.size\"] = 8\n",
    "\n",
    "plt.rcParams['figure.figsize'] = (3.5, 2.5)\n",
    "plt.rcParams['figure.dpi'] = 600\n",
    "\n",
    "plt.rcParams['text.usetex'] = True"
   ]
  },
  {
   "cell_type": "code",
   "execution_count": 112,
   "metadata": {},
   "outputs": [],
   "source": [
    "# Constants\n",
    "c_0\t= 299792458 # m/s\n",
    "e = 2.718281828\n",
    "epsilon_0 = 8.854E-12\n",
    "mu_0 = 1.257E-06\n",
    "k = 1.38E-23"
   ]
  },
  {
   "cell_type": "code",
   "execution_count": 113,
   "metadata": {},
   "outputs": [],
   "source": [
    "# Howell 2021 Model parameters\n",
    "T_surf = 104 # K\n",
    "T_cond_base = 230.4 # K\n",
    "T_conv_iso = 251.6 # K\n",
    "brittle_cryosphere_depth = 10000 * 1000 # m\n",
    "surface_background_radiation_temperature = 10**4 # K\n",
    "\n",
    "convective_cryosphere_depth = 5.8 * 1000 # m\n",
    "T_melt = 273.13 # K\n",
    "\n",
    "total_cryosphere_depth = brittle_cryosphere_depth + convective_cryosphere_depth"
   ]
  },
  {
   "cell_type": "code",
   "execution_count": 114,
   "metadata": {},
   "outputs": [],
   "source": [
    "# Mission Parameters\n",
    "max_BER = 10**-5\n",
    "bit_rate = 1e3 # bps\n",
    "link_BW = 10e3 #3.43e3 # Hz"
   ]
  },
  {
   "cell_type": "code",
   "execution_count": 115,
   "metadata": {},
   "outputs": [],
   "source": [
    "# Engineering/Assumed Parameters\n",
    "transmitted_power = 0.4 # W\n",
    "\n",
    "def antenna_directivity(T):\n",
    "    directivity_in_100K_ice = 4.64 # dB\n",
    "    directivity_in_273K_ice = 4.46 # dB\n",
    "    m, b = math_funcs.linear_fit(\n",
    "        100, math_funcs.db_2_power(directivity_in_100K_ice), \n",
    "        273, math_funcs.db_2_power(directivity_in_273K_ice))\n",
    "    return m * T + b\n",
    "\n",
    "def radiation_efficiency(T):\n",
    "    rad_eff_in_273K_ice = 0.228 # dB\n",
    "    rad_eff_in_100K_ice = 0.223 # dB\n",
    "    m, b = math_funcs.linear_fit(\n",
    "        100, rad_eff_in_100K_ice, \n",
    "        273, rad_eff_in_273K_ice)\n",
    "    return m * T + b\n",
    "\n",
    "matching_efficiency = 0.952\n",
    "carrier_frequency = 1e7#413*10**6 # Hz"
   ]
  },
  {
   "cell_type": "code",
   "execution_count": 124,
   "metadata": {},
   "outputs": [
    {
     "data": {
      "text/plain": [
       "((0.3651406993230382-4.85450880781075e-07j),\n",
       " (3.0344917000000002-8.06865228237526e-06j),\n",
       " [(-37.27027025059173, -37.26980641932817, -0.000463831263560619),\n",
       "  (-57.2740807320867, -57.269821235241466, -0.004259496845232996),\n",
       "  (-77.65461866384335, -77.61064276217965, -0.043975901663696845),\n",
       "  (-83.37540870099902, -83.29073391711667, -0.08467478388236446)],\n",
       " [-45.43448975784618,\n",
       "  -65.43830023934115,\n",
       "  -85.81883817109781,\n",
       "  -91.53962820825348],\n",
       " [-153.92524731455563,\n",
       "  -153.92811050015706,\n",
       "  -153.95803264511517,\n",
       "  -153.98862440335574],\n",
       " [108.4907563999444, 88.48979869312052, 68.13907416510415, 62.448764822220866],\n",
       " [98.43293725210305,\n",
       "  78.43215646492487,\n",
       "  58.083287996186364,\n",
       "  52.394889796499974],\n",
       " [1e-40, 1e-40, 1e-40, 1e-40])"
      ]
     },
     "execution_count": 124,
     "metadata": {},
     "output_type": "execute_result"
    }
   ],
   "source": [
    "# Propagation path modeling equations\n",
    "def temperature_at_depth(depth):\n",
    "    if depth > total_cryosphere_depth:\n",
    "        return T_melt\n",
    "    elif depth > brittle_cryosphere_depth:\n",
    "        return T_conv_iso\n",
    "    else:\n",
    "        m, b = math_funcs.linear_fit(\n",
    "            0, T_surf, \n",
    "            brittle_cryosphere_depth, T_cond_base)\n",
    "        return m * depth + b\n",
    "\n",
    "def ice_epsilon_relative(T):\n",
    "    T = T - 273.13 # convert from Kelvin to Celsius\n",
    "    real = 3.1884 + 0.00091*T\n",
    "    imag = 10**(-3.0129 + 0.0123*T)\n",
    "    return real - 1j*imag\n",
    "\n",
    "def ice_wave_number(T):\n",
    "    return 2 * np.pi * carrier_frequency * np.sqrt(epsilon_0 * mu_0) * np.sqrt(ice_epsilon_relative(T))\n",
    "\n",
    "def wavelength_column_path_loss_calc_linear(top_column, bottom_column):\n",
    "    iter_depth = 10 # about 20 wavelengths\n",
    "    depths = np.arange(top_column, bottom_column + iter_depth, iter_depth)\n",
    "    linear_path_loss = 1 # real units of power\n",
    "    for col_depth in depths:\n",
    "        k_s = ice_wave_number(temperature_at_depth(col_depth))\n",
    "        linear_path_loss *= np.e**(2 * iter_depth * np.imag(k_s))\n",
    "\n",
    "    return linear_path_loss\n",
    "\n",
    "def wavelength_column_path_loss_calc(top_column, bottom_column, debug=False):\n",
    "\n",
    "    linear_path_loss = wavelength_column_path_loss_calc_linear(top_column, bottom_column)\n",
    "\n",
    "    path_length = bottom_column - top_column\n",
    "    space_path_loss = (1 / (2 * \\\n",
    "        np.real(ice_wave_number(temperature_at_depth(bottom_column))) \\\n",
    "            * (path_length)))**2\n",
    "    total_path_loss = linear_path_loss * space_path_loss\n",
    "\n",
    "    if debug:\n",
    "        return 10*np.log10(total_path_loss), 10*np.log10(space_path_loss), 10*np.log10(linear_path_loss)\n",
    "    else:\n",
    "        return total_path_loss\n",
    "\n",
    "def received_power(T_puck, top_column, bottom_column):\n",
    "    path_loss = wavelength_column_path_loss_calc(top_column, bottom_column)\n",
    "    return transmitted_power * matching_efficiency**2 * radiation_efficiency(T_puck)**2\\\n",
    "        * path_loss * antenna_directivity(T_puck)**2\n",
    "\n",
    "def noise_power(T_puck, top_column, bottom_column, receiver_noise_temperature=0):\n",
    "    path_loss = wavelength_column_path_loss_calc_linear(top_column, bottom_column)\n",
    "    return link_BW * k * (T_puck + receiver_noise_temperature) \\\n",
    "        + radiation_efficiency(T_puck) * link_BW * k * path_loss * surface_background_radiation_temperature\n",
    "\n",
    "def CNR_per_bit(received_power, noise_power):\n",
    "    return (bit_rate/link_BW) * (received_power/noise_power)\n",
    "\n",
    "def bit_error_rate(CNR_per_bit):\n",
    "    if 10*np.log10(CNR_per_bit) > 15:\n",
    "        return 10**-40\n",
    "    elif CNR_per_bit > 4*np.log(2):\n",
    "        return np.e**(-1 * 1 * (CNR_per_bit - 2 * np.log(2)))\n",
    "    else:\n",
    "        return np.e**(-1 * 2 * ((np.sqrt(CNR_per_bit) - np.sqrt(np.log(2)))**2))\n",
    "\n",
    "def bit_error_rate_of_next_receiver(last_puck_depth, next_puck_path_length, debug=False):\n",
    "    puck_depth = last_puck_depth + next_puck_path_length\n",
    "    T_puck = temperature_at_depth(puck_depth)\n",
    "\n",
    "    P_r = received_power(T_puck, last_puck_depth, puck_depth)\n",
    "    P_n = noise_power(T_puck, 0, puck_depth)\n",
    "\n",
    "    BER = bit_error_rate(CNR_per_bit(P_r, P_n))\n",
    "    if debug:\n",
    "        return BER, puck_depth, T_puck, P_r, P_n\n",
    "    else:\n",
    "        return BER\n",
    "\n",
    "def SNR_of_next_receiver(last_puck_depth, next_puck_path_length, receiver_noise_temperature=0):\n",
    "    puck_depth = last_puck_depth + next_puck_path_length\n",
    "    T_puck = temperature_at_depth(puck_depth)\n",
    "\n",
    "    P_r = received_power(T_puck, last_puck_depth, puck_depth)\n",
    "    P_n = noise_power(T_puck, 0, puck_depth, receiver_noise_temperature)\n",
    "\n",
    "    return P_r/P_n\n",
    "\n",
    "def optimize_puck_depth(last_puck_depth):\n",
    "    # Goal function\n",
    "    goal_func = lambda next_puck_path_length: bit_error_rate_of_next_receiver(last_puck_depth, next_puck_path_length) - max_BER\n",
    "\n",
    "    a = 1\n",
    "    b = total_cryosphere_depth - last_puck_depth\n",
    "\n",
    "    # Bound the answer to b if the\n",
    "    if np.sign(goal_func(a)) and np.sign(goal_func(b)):\n",
    "        return b\n",
    "\n",
    "    # Using a binary search optimization (since I know the bit error rate monotonically increases with depth)\n",
    "    return scipy.optimize.bisect(goal_func, a, b)\n",
    "\n",
    "def optimize_puck_depth_simple_SNR_bound(last_puck_depth):\n",
    "    # Goal function\n",
    "    goal_func = lambda next_puck_path_length: SNR_of_next_receiver(last_puck_depth, next_puck_path_length, 600) - 10**(3/10)\n",
    "\n",
    "    a = 1\n",
    "    b = total_cryosphere_depth - last_puck_depth\n",
    "\n",
    "    # Bound the answer to b if the\n",
    "    if np.sign(goal_func(a)) and np.sign(goal_func(b)):\n",
    "        return b\n",
    "\n",
    "    # Using a binary search optimization (since I know the bit error rate monotonically increases with depth)\n",
    "    return scipy.optimize.bisect(goal_func, a, b)\n",
    "\n",
    "x = [100, 1000, 10.4e3, 20e3]\n",
    "test_temp = 104\n",
    "ice_wave_number(test_temp), ice_epsilon_relative(test_temp), \\\n",
    "    [wavelength_column_path_loss_calc(0, i, True) for i in x], \\\n",
    "    [10*np.log10(received_power(test_temp, 0, i)) for i in x], \\\n",
    "    [10*np.log10(noise_power(temperature_at_depth(i), 0, i, 600)) for i in x], \\\n",
    "    [10*np.log10(received_power(temperature_at_depth(i), 0, i)/ noise_power(temperature_at_depth(i), 0, i, 600)) for i in x], \\\n",
    "    [10*np.log10(CNR_per_bit(received_power(test_temp, 0, i), noise_power(600, 0, i))) for i in x], \\\n",
    "    [bit_error_rate_of_next_receiver(0, i) for i in x]\n"
   ]
  },
  {
   "cell_type": "code",
   "execution_count": 117,
   "metadata": {},
   "outputs": [
    {
     "data": {
      "text/plain": [
       "-8.206981288287347"
      ]
     },
     "execution_count": 117,
     "metadata": {},
     "output_type": "execute_result"
    }
   ],
   "source": [
    "T_puck = 150 # K\n",
    "path_loss = 1\n",
    "10*np.log10(transmitted_power * matching_efficiency**2 * radiation_efficiency(T_puck)**2\\\n",
    "        * path_loss * antenna_directivity(T_puck)**2)"
   ]
  },
  {
   "cell_type": "code",
   "execution_count": 118,
   "metadata": {},
   "outputs": [
    {
     "data": {
      "text/plain": [
       "([0, 10005800.0], 1)"
      ]
     },
     "execution_count": 118,
     "metadata": {},
     "output_type": "execute_result"
    }
   ],
   "source": [
    "# Loop to calculate the number of pucks and all of their stats\n",
    "total_depth = 0\n",
    "inital_guess = 2000\n",
    "puck_depths = [0]\n",
    "i = 0\n",
    "next_puck_depth = 0\n",
    "\n",
    "while next_puck_depth < total_cryosphere_depth:\n",
    "    last_puck_depth = puck_depths[i]\n",
    "    next_puck_depth = optimize_puck_depth(last_puck_depth)\n",
    "    puck_depths.append(next_puck_depth)\n",
    "\n",
    "puck_depths, len(puck_depths) - 1"
   ]
  },
  {
   "cell_type": "code",
   "execution_count": 119,
   "metadata": {},
   "outputs": [
    {
     "data": {
      "text/plain": [
       "([0, 10005800.0], 1)"
      ]
     },
     "execution_count": 119,
     "metadata": {},
     "output_type": "execute_result"
    }
   ],
   "source": [
    "# Loop to calculate the number of pucks and all of their stats\n",
    "total_depth = 0\n",
    "puck_depths = [0]\n",
    "i = 0\n",
    "next_puck_depth = 0\n",
    "\n",
    "while next_puck_depth < total_cryosphere_depth:\n",
    "    last_puck_depth = puck_depths[i]\n",
    "    next_puck_depth = optimize_puck_depth_simple_SNR_bound(last_puck_depth)\n",
    "    puck_depths.append(next_puck_depth)\n",
    "\n",
    "puck_depths, len(puck_depths) - 1"
   ]
  },
  {
   "cell_type": "code",
   "execution_count": 120,
   "metadata": {},
   "outputs": [
    {
     "data": {
      "text/plain": [
       "1123341.5098334078"
      ]
     },
     "execution_count": 120,
     "metadata": {},
     "output_type": "execute_result"
    }
   ],
   "source": [
    "SNR_of_next_receiver(0, 25e3, 600)"
   ]
  }
 ],
 "metadata": {
  "kernelspec": {
   "display_name": "Python 3.11.0 64-bit",
   "language": "python",
   "name": "python3"
  },
  "language_info": {
   "codemirror_mode": {
    "name": "ipython",
    "version": 3
   },
   "file_extension": ".py",
   "mimetype": "text/x-python",
   "name": "python",
   "nbconvert_exporter": "python",
   "pygments_lexer": "ipython3",
   "version": "3.11.0"
  },
  "orig_nbformat": 4,
  "vscode": {
   "interpreter": {
    "hash": "5c7b89af1651d0b8571dde13640ecdccf7d5a6204171d6ab33e7c296e100e08a"
   }
  }
 },
 "nbformat": 4,
 "nbformat_minor": 2
}
