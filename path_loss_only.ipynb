{
 "cells": [
  {
   "cell_type": "code",
   "execution_count": 3,
   "metadata": {},
   "outputs": [
    {
     "name": "stdout",
     "output_type": "stream",
     "text": [
      "Permittivity of free space: 8.8541878128e-12 F/m\n",
      "Permeability of free space: 1.25663706212e-06 N/A^2\n",
      "Speed of light in vacuum: 299792458.0 m/s\n",
      "Boltzmann constant: 1.380649e-23 J/K\n",
      "Electron volt: 1.602176634e-19 J\n",
      "0\n",
      "1.235e3\n",
      "1.235e-3\n",
      "-987.654e3\n",
      "1.000e9\n"
     ]
    }
   ],
   "source": [
    "# Imports and plotting setups\n",
    "import pandas as pd\n",
    "import numpy as np\n",
    "import matplotlib.pyplot as plt\n",
    "import pandas as pd\n",
    "import scipy\n",
    "import math\n",
    "\n",
    "import sys, os\n",
    "sys.path.insert(0, '../../')\n",
    "sys.path.insert(0, '../')\n",
    "\n",
    "import math_funcs\n",
    "\n",
    "from cycler import cycler\n",
    "\n",
    "default_cycler = (cycler(color=['#4477AA', '#EE6677', '#228833', '#CCBB44', '#66CCEE', '#AA3377', 'black']) +\n",
    "                cycler(linestyle=['-', '--', ':', '-.', '-', '--', ':']))\n",
    "\n",
    "plt.rc('lines', linewidth=1)\n",
    "plt.rc('axes', prop_cycle=default_cycler)\n",
    "\n",
    "#plt.rcParams[\"font.family\"] = \"Times\"\n",
    "plt.rcParams[\"font.size\"] = 8\n",
    "\n",
    "plt.rcParams['figure.figsize'] = (3.5, 2.5)\n",
    "plt.rcParams['figure.dpi'] = 200\n",
    "\n",
    "plt.rcParams['text.usetex'] = False\n",
    "\n",
    "from scipy.constants import (\n",
    "    epsilon_0,   # Permittivity of free space (vacuum)\n",
    "    mu_0,        # Permeability of free space (vacuum)\n",
    "    c,           # Speed of light in vacuum\n",
    "    #e,           # Elementary charge\n",
    "    #h,           # Planck constant\n",
    "    #hbar,        # Reduced Planck constant (h-bar)\n",
    "    k,           # Boltzmann constant\n",
    "    #G,           # Newtonian constant of gravitation\n",
    "    #m_e,         # Electron mass\n",
    "    #m_p,         # Proton mass\n",
    "    #m_n,         # Neutron mass\n",
    "    #alpha,       # Fine-structure constant\n",
    "    eV,          # Electron volt\n",
    ")\n",
    "\n",
    "# Example usage of some constants\n",
    "print(f\"Permittivity of free space: {epsilon_0} F/m\")\n",
    "print(f\"Permeability of free space: {mu_0} N/A^2\")\n",
    "print(f\"Speed of light in vacuum: {c} m/s\")\n",
    "# print(f\"Elementary charge: {e} C\")\n",
    "# print(f\"Planck constant: {h} J·s\")\n",
    "# print(f\"Reduced Planck constant: {hbar} J·s\")\n",
    "print(f\"Boltzmann constant: {k} J/K\")\n",
    "# print(f\"Newtonian constant of gravitation: {G} m^3/kg/s^2\")\n",
    "# print(f\"Electron mass: {m_e} kg\")\n",
    "# print(f\"Proton mass: {m_p} kg\")\n",
    "# print(f\"Neutron mass: {m_n} kg\")\n",
    "# print(f\"Fine-structure constant: {alpha}\")\n",
    "print(f\"Electron volt: {eV} J\")\n",
    "\n",
    "def print_engineering_notation(value):\n",
    "    \"\"\"\n",
    "    Print a value in engineering notation (powers of ten in multiples of 3).\n",
    "\n",
    "    Parameters:\n",
    "    value (float): The value to be printed in engineering notation.\n",
    "    \"\"\"\n",
    "    \n",
    "    if value == 0:\n",
    "        print(\"0\")\n",
    "        return\n",
    "\n",
    "    exponent = int(math.floor(math.log10(abs(value)) / 3) * 3)\n",
    "    mantissa = value / (10 ** exponent)\n",
    "    \n",
    "    print(f\"{mantissa:.3f}e{exponent}\")\n",
    "\n",
    "# Example usage\n",
    "print_engineering_notation(0)          # Output: 0\n",
    "print_engineering_notation(1234.56)    # Output: 1.235e3\n",
    "print_engineering_notation(0.00123456) # Output: 1.235e-3\n",
    "print_engineering_notation(-987654)    # Output: -987.654e3\n",
    "print_engineering_notation(1e9)        # Output: 1.000e9"
   ]
  },
  {
   "cell_type": "code",
   "execution_count": 16,
   "metadata": {},
   "outputs": [
    {
     "data": {
      "text/plain": [
       "(np.float64(-4.342761191066506),\n",
       " np.float64(-2.4864069021733815),\n",
       " 2.6073891394111864e-05)"
      ]
     },
     "execution_count": 16,
     "metadata": {},
     "output_type": "execute_result"
    }
   ],
   "source": [
    "T = 273.13 - 4\n",
    "\n",
    "# Estimate the conductivity of the ice\n",
    "sigma_s = 9e-6 * np.e ** ((0.58*eV/k) * (1 / 258.15 - 1 / T))\n",
    "epsilon_s_prime = 3.1884 + 0.00091*(T - 273.13)\n",
    "epsilon_s_primeprime = 10**(-3.0129 + 0.0123*(T - 273.13)) \n",
    "\n",
    "path_length = 103 #m\n",
    "\n",
    "def calc_path_loss(omega, epsilon_s_prime, epsilon_s_primeprime, sigma_s):\n",
    "    return (omega / np.sqrt(2)) * np.sqrt(epsilon_0 * mu_0)\\\n",
    "        * np.sqrt(np.sqrt(epsilon_s_prime**2 + (epsilon_s_primeprime + sigma_s / (epsilon_0 * omega))**2) \\\n",
    "            - epsilon_s_prime)\n",
    "\n",
    "alpha_high_band = calc_path_loss(np.pi * 2 * 413e6, epsilon_s_prime, epsilon_s_primeprime, sigma_s)\n",
    "alpha_low_band = calc_path_loss(np.pi * 2 * 5.373e6, epsilon_s_prime, epsilon_s_primeprime, sigma_s)\n",
    "\n",
    "path_loss_high_band = 10 * np.log10(np.e**(-2 * path_length * alpha_high_band))\n",
    "path_loss_low_band = 10 * np.log10(np.e**(-2 * path_length * alpha_low_band))\n",
    "\n",
    "path_loss_high_band, path_loss_low_band, sigma_s"
   ]
  }
 ],
 "metadata": {
  "kernelspec": {
   "display_name": "Python 3",
   "language": "python",
   "name": "python3"
  },
  "language_info": {
   "codemirror_mode": {
    "name": "ipython",
    "version": 3
   },
   "file_extension": ".py",
   "mimetype": "text/x-python",
   "name": "python",
   "nbconvert_exporter": "python",
   "pygments_lexer": "ipython3",
   "version": "3.12.0"
  }
 },
 "nbformat": 4,
 "nbformat_minor": 2
}
